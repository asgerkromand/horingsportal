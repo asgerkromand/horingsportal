{
 "cells": [
  {
   "cell_type": "code",
   "execution_count": 135,
   "metadata": {},
   "outputs": [],
   "source": [
    "from pathlib import Path\n",
    "import json\n",
    "import pandas as pd\n",
    "import matplotlib.pyplot as plt"
   ]
  },
  {
   "cell_type": "code",
   "execution_count": null,
   "metadata": {},
   "outputs": [],
   "source": [
    "fp_project = Path(\"/Users/asgerkromand/hoering\")\n",
    "fp_data = fp_project / \"output\" / \"test_set\""
   ]
  },
  {
   "cell_type": "code",
   "execution_count": 87,
   "metadata": {},
   "outputs": [],
   "source": [
    "# Load in json file with folder data\n",
    "with open(fp_data / \"folder_file_count.json\", \"r\") as f:\n",
    "    folder_data = json.load(f)\n"
   ]
  },
  {
   "cell_type": "code",
   "execution_count": 151,
   "metadata": {},
   "outputs": [
    {
     "name": "stdout",
     "output_type": "stream",
     "text": [
      "    case_id  file_count  percentile_group\n",
      "0     10345           4                 0\n",
      "1     67741           4                 0\n",
      "2     14785           4                 0\n",
      "3     13536           4                 0\n",
      "4     68314           3                 0\n",
      "..      ...         ...               ...\n",
      "195   67083          17                 9\n",
      "196   64672           9                 9\n",
      "197   64174          12                 9\n",
      "198   11017          13                 9\n",
      "199   14653          10                 9\n",
      "\n",
      "[200 rows x 3 columns]\n"
     ]
    },
    {
     "name": "stderr",
     "output_type": "stream",
     "text": [
      "/var/folders/sw/l43jl9d15098xcnblnvk66jc0000gn/T/ipykernel_48804/796674262.py:23: DeprecationWarning: DataFrameGroupBy.apply operated on the grouping columns. This behavior is deprecated, and in a future version of pandas the grouping columns will be excluded from the operation. Either pass `include_groups=False` to exclude the groupings or explicitly select the grouping columns after groupby to silence this warning.\n",
      "  stratified_sample = df_sorted.groupby('percentile_group').apply(lambda x: x.sample(n=20, random_state=170497))\n"
     ]
    },
    {
     "data": {
      "image/png": "[encoded data removed]",
      "text/plain": [
       "<Figure size 1000x600 with 1 Axes>"
      ]
     },
     "metadata": {},
     "output_type": "display_data"
    }
   ],
   "source": [
    "# Step 1: Convert folder_data into a DataFrame where each row is a list\n",
    "df = pd.DataFrame(list(folder_data.items()), columns=[\"case_id\", \"files\"])\n",
    "\n",
    "# Make a file count column\n",
    "df[\"file_count\"] = df[\"files\"].apply(lambda x: len(x))\n",
    "\n",
    "# Make histogram of file counts\n",
    "plt.figure(figsize=(10, 6))\n",
    "plt.hist(df[\"file_count\"], bins=30, color=\"blue\", alpha=0.7)\n",
    "plt.title(\"Histogram of File Counts\")\n",
    "plt.xlabel(\"Number of Files\")\n",
    "plt.ylabel(\"Frequency\")\n",
    "\n",
    "\n",
    "# Step 3: Sort by file_count to prepare for equally-sized binning\n",
    "df_sorted = df.sort_values(by=\"file_count\").reset_index(drop=True)\n",
    "\n",
    "# Step 4: Split the sorted values into 10 equally sized parts (percentile groups)\n",
    "num_groups = 10\n",
    "df_sorted['percentile_group'] = pd.cut(df_sorted.index, bins=num_groups, labels=False)\n",
    "\n",
    "# Step 5: Stratified Sampling (sample 2 cases per group)\n",
    "stratified_sample = df_sorted.groupby('percentile_group').apply(lambda x: x.sample(n=20, random_state=170497))\n",
    "\n",
    "# Step 6: Reset index for clarity\n",
    "stratified_sample = stratified_sample.reset_index(drop=True)\n",
    "\n",
    "# Step 7: Show the stratified sample result\n",
    "print(stratified_sample[['case_id', 'file_count', 'percentile_group']])\n",
    "\n",
    "# Output the stratified sample to a CSV file\n",
    "fp_output = fp_project / \"output\"\n",
    "fp_output.mkdir(exist_ok=True)\n",
    "stratified_sample.to_csv(fp_output / \"stratified_sample.csv\", index=False)\n"
   ]
  }
 ],
 "metadata": {
  "kernelspec": {
   "display_name": "horing",
   "language": "python",
   "name": "python3"
  },
  "language_info": {
   "codemirror_mode": {
    "name": "ipython",
    "version": 3
   },
   "file_extension": ".py",
   "mimetype": "text/x-python",
   "name": "python",
   "nbconvert_exporter": "python",
   "pygments_lexer": "ipython3",
   "version": "3.13.1"
  }
 },
 "nbformat": 4,
 "nbformat_minor": 2
}
